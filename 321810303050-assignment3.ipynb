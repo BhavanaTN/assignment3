{
 "cells": [
  {
   "cell_type": "markdown",
   "metadata": {},
   "source": [
    "1.Take two inputs from user and check whether they are equal or not"
   ]
  },
  {
   "cell_type": "code",
   "execution_count": 2,
   "metadata": {},
   "outputs": [
    {
     "name": "stdout",
     "output_type": "stream",
     "text": [
      "6\n",
      "6\n",
      "equal\n"
     ]
    }
   ],
   "source": [
    "a=float(input())\n",
    "b=float(input())\n",
    "if(a==b):\n",
    "    print(\"equal\")\n",
    "else:\n",
    "    print(\"unequal\")"
   ]
  },
  {
   "cell_type": "markdown",
   "metadata": {},
   "source": [
    "2.Take 3 inputs from user and check:\n",
    "all are equal\n",
    "any of the two are equal"
   ]
  },
  {
   "cell_type": "code",
   "execution_count": 18,
   "metadata": {},
   "outputs": [
    {
     "name": "stdout",
     "output_type": "stream",
     "text": [
      "6\n",
      "9\n",
      "6\n",
      "any two are equal\n"
     ]
    }
   ],
   "source": [
    "a=float(input())\n",
    "b=float(input())\n",
    "c=float(input())\n",
    "m=(a==b and b==c and c==a)\n",
    "n=(a==b or b==c or c==a)\n",
    "if(m):\n",
    "    print(\"all three equal\")\n",
    "elif(n):\n",
    "    print(\"any two are equal\")\n",
    "else:\n",
    "    print(\"nothing is equal\")\n"
   ]
  },
  {
   "cell_type": "markdown",
   "metadata": {},
   "source": [
    "3.Take two numbers and check whether the sum is greater than 5,less than 5 or equal to 5"
   ]
  },
  {
   "cell_type": "code",
   "execution_count": 21,
   "metadata": {},
   "outputs": [
    {
     "name": "stdout",
     "output_type": "stream",
     "text": [
      "1\n",
      "1\n",
      "sum is lesser than 5\n"
     ]
    }
   ],
   "source": [
    "a=float(input())\n",
    "b=float(input())\n",
    "if((a + b)>5):\n",
    "    print(\"sum greater than 5\")\n",
    "elif((a + b)<5):\n",
    "    print(\"sum is lesser than 5\")\n",
    "else:\n",
    "    print(\"sum equal to 5\")"
   ]
  },
  {
   "cell_type": "markdown",
   "metadata": {},
   "source": [
    "4.Suppose passing marks of a subject is 35.Take input of marks from user and check whether it is greater than passing marks or not"
   ]
  },
  {
   "cell_type": "code",
   "execution_count": 23,
   "metadata": {},
   "outputs": [
    {
     "name": "stdout",
     "output_type": "stream",
     "text": [
      "6\n",
      "marks not greater than passing marks\n"
     ]
    }
   ],
   "source": [
    "a=float(input())\n",
    "if(a>35):\n",
    "    print(\"marks greater than passing marks\")\n",
    "else:\n",
    "    print(\"marks not greater than passing marks\")"
   ]
  },
  {
   "cell_type": "markdown",
   "metadata": {},
   "source": [
    "5.Write a Python function to find max of three numbers"
   ]
  },
  {
   "cell_type": "code",
   "execution_count": 34,
   "metadata": {},
   "outputs": [
    {
     "name": "stdout",
     "output_type": "stream",
     "text": [
      "1\n",
      "4\n",
      "2\n",
      "4.0 is max\n"
     ]
    }
   ],
   "source": [
    "def max(a,b,c):\n",
    "    if(a>b and a>c):\n",
    "        print(str(a),\"is max\")\n",
    "    elif(b>a and b>c):\n",
    "        print(str(b),\"is max\")\n",
    "    else:\n",
    "        print(str(c),\"is max\")\n",
    "m=float(input())\n",
    "n=float(input())\n",
    "o=float(input())\n",
    "max(m,n,o)\n"
   ]
  }
 ],
 "metadata": {
  "kernelspec": {
   "display_name": "Python 3",
   "language": "python",
   "name": "python3"
  },
  "language_info": {
   "codemirror_mode": {
    "name": "ipython",
    "version": 3
   },
   "file_extension": ".py",
   "mimetype": "text/x-python",
   "name": "python",
   "nbconvert_exporter": "python",
   "pygments_lexer": "ipython3",
   "version": "3.7.6"
  }
 },
 "nbformat": 4,
 "nbformat_minor": 4
}
